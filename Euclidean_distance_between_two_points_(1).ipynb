{
  "cells": [
    {
      "cell_type": "markdown",
      "metadata": {
        "id": "view-in-github",
        "colab_type": "text"
      },
      "source": [
        "<a href=\"https://colab.research.google.com/github/fereshtehdehkhoda/Example3-Euclidean-distance-between-two-points/blob/main/Euclidean_distance_between_two_points_(1).ipynb\" target=\"_parent\"><img src=\"https://colab.research.google.com/assets/colab-badge.svg\" alt=\"Open In Colab\"/></a>"
      ]
    },
    {
      "cell_type": "markdown",
      "id": "05f5ac43-e242-4db6-b539-56b4406c608b",
      "metadata": {
        "id": "05f5ac43-e242-4db6-b539-56b4406c608b"
      },
      "source": [
        "# Euclidean distance between two points"
      ]
    },
    {
      "cell_type": "code",
      "execution_count": null,
      "id": "5a852d9d-351a-4357-a43a-7541a8436617",
      "metadata": {
        "id": "5a852d9d-351a-4357-a43a-7541a8436617"
      },
      "outputs": [],
      "source": [
        "#مختصات دو نقطه را از کاربر بگیرد و فاصله اقلیدسی بین دو نقطه را محاسبه کند"
      ]
    },
    {
      "cell_type": "code",
      "execution_count": null,
      "id": "3b030327-d6be-4cc9-8076-128f66b6cefa",
      "metadata": {
        "id": "3b030327-d6be-4cc9-8076-128f66b6cefa",
        "outputId": "df927107-1c52-4784-f27d-676f0bbd83db"
      },
      "outputs": [
        {
          "name": "stdin",
          "output_type": "stream",
          "text": [
            "x1:  3\n",
            "y1:  4\n",
            "x2:  5\n",
            "y2:  9\n"
          ]
        },
        {
          "name": "stdout",
          "output_type": "stream",
          "text": [
            "Euclidean_distance 5.39\n"
          ]
        }
      ],
      "source": [
        "#Step1\n",
        "import math\n",
        "x1 = int(input(\"x1: \"))\n",
        "y1 = int(input(\"y1: \"))\n",
        "\n",
        "x2 = int(input(\"x2: \"))\n",
        "y2 = int(input(\"y2: \"))\n",
        "\n",
        "#Step2\n",
        "Euclidean_distance = math.sqrt((y1-y2) ** 2 + (x1-x2) ** 2)\n",
        "\n",
        "#Step3\n",
        "print('Euclidean_distance {ed:0.2f}'.format(ed=Euclidean_distance))"
      ]
    },
    {
      "cell_type": "code",
      "execution_count": null,
      "id": "70e63d75-1b3f-40f5-bd82-51e904e00b9d",
      "metadata": {
        "id": "70e63d75-1b3f-40f5-bd82-51e904e00b9d"
      },
      "outputs": [],
      "source": []
    },
    {
      "cell_type": "code",
      "execution_count": null,
      "id": "3a6c87a5-13ca-40aa-b603-f7b01e16d185",
      "metadata": {
        "id": "3a6c87a5-13ca-40aa-b603-f7b01e16d185"
      },
      "outputs": [],
      "source": []
    },
    {
      "cell_type": "code",
      "execution_count": null,
      "id": "8e3e0c45-8005-4380-8395-0f982e63639d",
      "metadata": {
        "id": "8e3e0c45-8005-4380-8395-0f982e63639d"
      },
      "outputs": [],
      "source": []
    },
    {
      "cell_type": "code",
      "execution_count": null,
      "id": "d54ddc1e-4882-4c3f-908d-403a6895fa0f",
      "metadata": {
        "id": "d54ddc1e-4882-4c3f-908d-403a6895fa0f"
      },
      "outputs": [],
      "source": []
    }
  ],
  "metadata": {
    "kernelspec": {
      "display_name": "Python 3 (ipykernel)",
      "language": "python",
      "name": "python3"
    },
    "language_info": {
      "codemirror_mode": {
        "name": "ipython",
        "version": 3
      },
      "file_extension": ".py",
      "mimetype": "text/x-python",
      "name": "python",
      "nbconvert_exporter": "python",
      "pygments_lexer": "ipython3",
      "version": "3.12.4"
    },
    "colab": {
      "provenance": [],
      "include_colab_link": true
    }
  },
  "nbformat": 4,
  "nbformat_minor": 5
}